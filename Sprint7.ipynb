{
 "cells": [
  {
   "cell_type": "markdown",
   "metadata": {},
   "source": [
    "Sprint 7: Python.Estructuras de datos y de control\n",
    "\n",
    "Nivel 1\n",
    "\n",
    "\n",
    "\n",
    "- Ejercicio 1\n",
    "\n",
    "Calculadora del índice de masa corporal\n",
    "\n",
    "    Escriba una función que calcule el IMC por el usuario, es decir, quien la ejecute tendrá que introducir estos datos. Puede obtener más información sobre su cálculo en:\n",
    "\n",
    "    * Cuerpo de la carrocería IMC que es y cómo se calcula.\n",
    "    La función debe clasificar el resultado en sus respectivas categorías\n"
   ]
  },
  {
   "cell_type": "code",
   "execution_count": 2,
   "metadata": {},
   "outputs": [
    {
     "name": "stdout",
     "output_type": "stream",
     "text": [
      "Tu peso es: 256.0\n",
      "Tu altura es: 1.56\n",
      "Segun tu peso y altura, tu IMC es:  105.19 y tienes Obesidad\n"
     ]
    }
   ],
   "source": [
    "\n",
    "\n",
    "peso=float(input(\"Entra tu peso en KG:\"))\n",
    "print(\"Tu peso es:\", peso)\n",
    "altura=float(input(\"Entra tu altura en Metros:\"))\n",
    "print(\"Tu altura es:\", altura)\n",
    "def calculoIMC (x,y):\n",
    "    IMC = round(x/(y**2),2)\n",
    "    if IMC<18.5:\n",
    "        print(\"Segun tu peso y tu altura, tu IMC es: \", IMC, \"y tienes Bajo Peso\")\n",
    "    elif IMC <=24.9:\n",
    "        print (\"Segun tu peso y altura, tu IMC es: \", IMC, \"y tienes Peso Normal\")\n",
    "    elif IMC<29.9:\n",
    "        print(\"Segun tu peso y altura, tu IMC es: \", IMC, \"y estas en Sobrepeso\")\n",
    "    else:\n",
    "        print(\"Segun tu peso y altura, tu IMC es: \", IMC, \"y tienes Obesidad\")\n",
    "calculoIMC(y=altura,x=peso)\n"
   ]
  },
  {
   "cell_type": "markdown",
   "metadata": {},
   "source": [
    "Ejercicio 2\n",
    "\n",
    "Conversor de temperaturas.\n",
    "\n",
    "Hay varias unidades de temperatura utilizadas en diferentes contextos y regiones. Los más comunes son Celsius (ºC), Fahrenheit (ºF) y Kelvin (K). También hay otras unidades como Rankine(ºRa) y Reaumur(ºRe). Seleccione al menos 2 conversores, de modo que al entrar una temperatura, devuelva al menos dos conversiones."
   ]
  },
  {
   "cell_type": "markdown",
   "metadata": {},
   "source": [
    "Escojo Celsius, Farenheit y Kelvin"
   ]
  },
  {
   "cell_type": "code",
   "execution_count": 10,
   "metadata": {},
   "outputs": [
    {
     "name": "stdout",
     "output_type": "stream",
     "text": [
      "Grados Celsius (ºC):  52.0\n",
      "Grados Farenheit (ºF):  125.6\n",
      "Grados Kelvin (K):  325.15\n"
     ]
    }
   ],
   "source": [
    "def calculo_celsius_farenheit(x):\n",
    "    return round(((x*9/5)+32),2)\n",
    "def calculo_celsius_kelvin(x):\n",
    "    return round((x + 273.15),2)\n",
    "def calculo_farenheit_celsius(x):\n",
    "    return round(((x-32)*5/9),2)\n",
    "def calculo_farenheit_kelvin(x):\n",
    "    return round((((x -32)/1.8)+ 273.15),2)\n",
    "def calculo_kelvin_celsius(x):\n",
    "    return round((x -273.15),2)\n",
    "def calculo_kelvin_farenheit(x):\n",
    "    return round((((x-273.15)*1.8)+32),2)\n",
    "\n",
    "unidad=int(input(\"Escoge la unidad de temperatura: 1=ºC, 2=ºF, 3=K\"))\n",
    "\n",
    "\n",
    "if unidad ==1:\n",
    "    valor=float(input(\"Entra la temperatura:\"))\n",
    "    print(\"Grados Celsius (ºC): \", round(valor,2))\n",
    "    print(\"Grados Farenheit (ºF): \",calculo_celsius_farenheit(valor))\n",
    "    print(\"Grados Kelvin (K): \",calculo_celsius_kelvin(valor))\n",
    "elif unidad ==2:\n",
    "    valor=float(input(\"Entra la temperatura:\"))\n",
    "    print(\"Grados Farenheit (ºF): \", round(valor,2))\n",
    "    print(\"Grados Celsius (ºC): \", calculo_farenheit_celsius(valor))\n",
    "    print(\"Grados Kelvin (K): \",calculo_farenheit_kelvin(valor))\n",
    "elif unidad ==3:\n",
    "    valor=float(input(\"Entra la temperatura:\"))\n",
    "    print(\"Grados Kelvin (K): \", round(valor,2))\n",
    "    print(\"Grados Celsius (ºC):\",calculo_kelvin_celsius(valor))\n",
    "    print(\"Grados Farenheit (ºF): \", calculo_kelvin_farenheit(valor))\n",
    "else:\n",
    "    print (\"La unidad de temperatura ha de ser: 1, 2 o 3\")"
   ]
  },
  {
   "cell_type": "markdown",
   "metadata": {},
   "source": [
    "Ejercicio 3\n",
    "\n",
    "Conteo de palabras de un texto.\n",
    "\n",
    "Escribe una función que, dado un texto, muestra las veces que aparece cada palabra."
   ]
  },
  {
   "cell_type": "code",
   "execution_count": 19,
   "metadata": {},
   "outputs": [
    {
     "name": "stdout",
     "output_type": "stream",
     "text": [
      "¿cuafnoa oeiba y ah7nfe, en el av no?\n",
      "La palabra 'cuafnoa' aparece 1 vez.\n",
      "La palabra 'oeiba' aparece 1 vez.\n",
      "La palabra 'y' aparece 1 vez.\n",
      "La palabra 'ah7nfe' aparece 1 vez.\n",
      "La palabra 'en' aparece 1 vez.\n",
      "La palabra 'el' aparece 1 vez.\n",
      "La palabra 'av' aparece 1 vez.\n",
      "La palabra 'no' aparece 1 vez.\n"
     ]
    }
   ],
   "source": [
    "frase = input(\"Ingresa una frase: \")\n",
    "print(frase)\n",
    "#palabras = frase.split() #esta libreria divide la frase por los espacios en blanco\n",
    "import re #importa el modulo de expresiones regulares\n",
    "palabras = re.findall(r'\\b\\w+\\b', frase) #para quitar cualquier signo de puntuacion cuando hace la separacion de palabras\n",
    "\n",
    "frecuencia_palabras = {} # creo un diccionario donde guardar la clave(cada palabra) y su valor(frecuencia)\n",
    "\n",
    "for palabra in palabras:  #bucle for para iterar sobre cada elemento del diccionario y asignar la frecuenta\n",
    "    if palabra in frecuencia_palabras:\n",
    "        frecuencia_palabras[palabra] += 1 #si la palabra ya existe en el diccionario le suma 1\n",
    "    else:\n",
    "        frecuencia_palabras[palabra] = 1 #sino, le asigna 1 al valor frecuencia\n",
    " \n",
    "for palabra, frecuencia in frecuencia_palabras.items():  #se itera sobre cada valor en pares del diccionario\n",
    "    if frecuencia == 1:\n",
    "        print(f\"La palabra '{palabra}' aparece {frecuencia} vez.\") #la f se usa antes de una cadena de texto y permite añadir texto y expresiones, variables entre {}\n",
    "    else:\n",
    "        print(f\"La palabra '{palabra}' aparece {frecuencia} veces.\")"
   ]
  },
  {
   "cell_type": "markdown",
   "metadata": {},
   "source": [
    "Ejercicio 4\n",
    "\n",
    "Diccionario inverso.\n",
    "\n",
    "Resulta que el cliente tiene una encuesta muy antigua que se almacena en un diccionario y los resultados necesitan ser invertidos, es decir, se intercambian las claves y los valores. Los valores y las claves del diccionario original son únicos; si no es así, la función debe ser impresa en un mensaje de advertencia.\n"
   ]
  },
  {
   "cell_type": "code",
   "execution_count": null,
   "metadata": {},
   "outputs": [
    {
     "name": "stdout",
     "output_type": "stream",
     "text": [
      "{1: 'a', 2: 'b', 3: 'c'}\n"
     ]
    }
   ],
   "source": [
    "def invertir_diccionario(diccionario):\n",
    "    return{valor:clave for clave, valor in diccionario.items()}\n",
    "\n",
    "print(invertir_diccionario({'a':1,'b':2, 'c':3}))"
   ]
  },
  {
   "cell_type": "code",
   "execution_count": null,
   "metadata": {},
   "outputs": [
    {
     "name": "stdout",
     "output_type": "stream",
     "text": [
      "Error: múltiples claves para el valor 'banana'\n"
     ]
    }
   ],
   "source": [
    "def invertir_diccionario_con_verificacion(diccionario):\n",
    "    diccionario_invertido = {}\n",
    "    for clave, valor in diccionario.items():\n",
    "        if valor in diccionario_invertido:\n",
    "            raise ValueError(f\"Error: múltiples claves para el valor '{valor}'\")\n",
    "        diccionario_invertido[valor] = clave\n",
    "    return diccionario_invertido\n",
    "\n",
    "try:\n",
    "    print(invertir_diccionario_con_verificacion({'x': 'apple', 'y': 'banana', 'z': 'banana'}))\n",
    "except ValueError as e:\n",
    "    print(e)"
   ]
  },
  {
   "cell_type": "markdown",
   "metadata": {},
   "source": [
    "Nivel 2\n",
    "\n",
    "\n",
    "Ejercicio 1\n",
    "\n",
    "Diccionario inverso con duplicados\n",
    "\n",
    "Continuando con el 4o nivel del nivel: el cliente se ha olvidado de comentar un detalle y resulta que los valores en el diccionario original se pueden duplicar y, más aún, las claves se pueden duplicar. En este caso, en el ejercicio anterior, se imprimirá un mensaje de advertencia, ahora los valores del diccionario resultante tendrán que ser almacenados como lista. Tenga en cuenta que si se trata de un valor único, no debe ser una lista."
   ]
  },
  {
   "cell_type": "code",
   "execution_count": null,
   "metadata": {},
   "outputs": [
    {
     "name": "stdout",
     "output_type": "stream",
     "text": [
      "{'apple': 'x', 'banana': ['y', 'z']}\n"
     ]
    }
   ],
   "source": [
    "def invertir_diccionario_con_listas(diccionario):\n",
    "    diccionario_invertido = {}\n",
    "    for clave, valor in diccionario.items():\n",
    "        if valor in diccionario_invertido:\n",
    "            # Si ya existe, aseguramos que es una lista y añadimos la clave\n",
    "            if not isinstance(diccionario_invertido[valor], list):\n",
    "                diccionario_invertido[valor] = [diccionario_invertido[valor]]\n",
    "            diccionario_invertido[valor].append(clave)\n",
    "        else:\n",
    "            # Si no existe, lo añadimos directamente\n",
    "            diccionario_invertido[valor] = clave\n",
    "    return diccionario_invertido\n",
    "\n",
    "print(invertir_diccionario_con_listas({'x': 'apple', 'y': 'banana', 'z': 'banana'}))"
   ]
  },
  {
   "cell_type": "markdown",
   "metadata": {},
   "source": [
    "Ejercicio 2\n",
    "\n",
    "Conversión del tipo de datos\n",
    "\n",
    "El cliente recibe una lista de datos y necesita generar dos listas, la primera donde estarán todos los elementos que se pudieron convertir en flotantes y la otra donde estaran los elementos que no se han podido convertir. Ejemplo de la lista del cliente:  [ '1.3', 'one' , '1e10' , 'seven', '3-1/2', ('2',1,1.4,'not-a-number'), [1,2,'3','3.4']]"
   ]
  },
  {
   "cell_type": "code",
   "execution_count": null,
   "metadata": {},
   "outputs": [
    {
     "name": "stdout",
     "output_type": "stream",
     "text": [
      "Elementos convertibles a float: [1.3, 10000000000.0, 2.0, 1.0, 1.4, 1.0, 2.0, 3.0, 3.4]\n",
      "Elementos no convertibles a float:  ['one', 'seven', '3-1/2', 'not-a-number']\n"
     ]
    }
   ],
   "source": [
    "#analizo si puedo convertir cada dato en Float, si se puede devuelve True, sino FAlse.\n",
    "def es_convertible_a_float(dato):\n",
    "    try:\n",
    "        float(dato)\n",
    "        return True\n",
    "    except(ValueError,TypeError):\n",
    "        return False\n",
    " \n",
    "def clasificar_datos(lista): #defino dos listas, una para ubicar los datos convertibles y otra para poner los no convertibles\n",
    "    convertibles = []\n",
    "    no_convertibles = []\n",
    "\n",
    "    #iteracion sobre los elementos de la lista y los subelementos para saber si es una tupla, lista....\n",
    "    for dato in lista:\n",
    "        if isinstance(dato,(list,tuple)):\n",
    "            for subdato in dato:\n",
    "                if es_convertible_a_float(subdato):\n",
    "                    convertibles.append(float(subdato))\n",
    "                else:\n",
    "                    no_convertibles.append(subdato)\n",
    "        else:\n",
    "            if es_convertible_a_float(dato):\n",
    "                convertibles.append(float(dato))\n",
    "            else:\n",
    "                no_convertibles.append(dato)\n",
    "    return convertibles, no_convertibles\n",
    "\n",
    "datos= ['1.3', 'one' , '1e10' , 'seven', '3-1/2', ('2',1,1.4,'not-a-number'), [1,2,'3','3.4']]\n",
    "convertibles, no_convertibles = clasificar_datos(datos)\n",
    "print(\"Elementos convertibles a float:\", convertibles)\n",
    "print(\"Elementos no convertibles a float: \", no_convertibles)"
   ]
  },
  {
   "cell_type": "markdown",
   "metadata": {},
   "source": [
    "Nivel 3\n",
    "Ejercicio 1\n",
    "\n",
    "Contador y ordenador de palabras de un texto.\n",
    "\n",
    "El cliente estaba contento con el contador de palabras, pero ahora quiere añadir archivos TXT y que calcule la frecuencia de cada palabra ordenadas dentro de las entradas habituales del diccionario segun la letra con la cual empiezan, es decir, las claves han de ir de la A a la Z y dentro de la A hemos de ir de la A a la Z. Por ejemplo, para el archivo \"tu_me_quieres_blanca.txt\" la salida esperada seria:"
   ]
  },
  {
   "cell_type": "code",
   "execution_count": 23,
   "metadata": {},
   "outputs": [
    {
     "name": "stdout",
     "output_type": "stream",
     "text": [
      "{\n",
      "'a': {\n",
      "   'a': 3,\n",
      "   'agua': 1,\n",
      "   'al': 2,\n",
      "   'alba': 4,\n",
      "   'alcobas': 1,\n",
      "   'alimenta': 1,\n",
      "   'alma': 1,\n",
      "   'amarga': 1,\n",
      "  'azucena' : 1\n",
      " },\n",
      "'b': {\n",
      "   'baco': 1,\n",
      "   'banquete': 1,\n",
      "   'bebe': 1,\n",
      "   'blanca': 3,\n",
      "   'boca': 1,\n",
      "   'bosques': 1,\n",
      "  'buen' : 1\n",
      " },\n",
      "'c': {\n",
      "   'cabañas': 1,\n",
      "   'carnes': 2,\n",
      "   'casta': 3,\n",
      "   'cerrada': 1,\n",
      "   'con': 4,\n",
      "   'conservas': 1,\n",
      "   'copas': 1,\n",
      "   'corola': 1,\n",
      "   'corriste': 1,\n",
      "   'cuando': 2,\n",
      "   'cubierto': 1,\n",
      "   'cuerpo': 1,\n",
      "  'cuáles' : 1\n",
      " },\n",
      "'d': {\n",
      "   'de': 8,\n",
      "   'dejaste': 1,\n",
      "   'del': 1,\n",
      "   'diga': 1,\n",
      "   'dios': 2,\n",
      "  'duerme' : 1\n",
      " },\n",
      "'e': {\n",
      "   'el': 4,\n",
      "   'ellas': 1,\n",
      "   'en': 4,\n",
      "   'engaño': 1,\n",
      "   'enredada': 1,\n",
      "   'entonces': 1,\n",
      "   'escarcha': 1,\n",
      "   'espumas': 1,\n",
      "   'esqueleto': 1,\n",
      "  'estrago' : 1\n",
      " },\n",
      "'f': {\n",
      "   'festejando': 1,\n",
      "   'filtrado': 1,\n",
      "  'frutos' : 1\n",
      " },\n",
      "'h': {\n",
      "   'habla': 1,\n",
      "   'hacia': 1,\n",
      "   'haya': 1,\n",
      "   'hayas': 1,\n",
      "   'hermana': 1,\n",
      "   'hombre': 1,\n",
      "   'hubiste': 1,\n",
      "  'huye' : 1\n",
      " },\n",
      "'i': {\n",
      "  'intacto' : 1\n",
      " },\n",
      "'j': {\n",
      "  'jardines' : 1\n",
      " },\n",
      "'l': {\n",
      "   'la': 3,\n",
      "   'labios': 1,\n",
      "   'las': 7,\n",
      "   'lo': 2,\n",
      "   'los': 4,\n",
      "   'luna': 1,\n",
      "   'lévate': 1,\n",
      "  'límpiate' : 1\n",
      " },\n",
      "'m': {\n",
      "   'mano': 1,\n",
      "   'manos': 1,\n",
      "   'margarita': 1,\n",
      "   'me': 10,\n",
      "   'mi': 1,\n",
      "   'mieles': 1,\n",
      "   'milagros': 1,\n",
      "   'mojada': 1,\n",
      "   'montaña': 1,\n",
      "  'morados' : 1\n",
      " },\n",
      "'n': {\n",
      "   'negros': 1,\n",
      "   'ni': 2,\n",
      "   'no': 1,\n",
      "   'nácar': 1,\n",
      "  'nívea' : 2\n",
      " },\n",
      "'p': {\n",
      "   'perdone': 2,\n",
      "   'perfume': 1,\n",
      "   'por': 2,\n",
      "   'pretendes': 3,\n",
      "   'preténdeme': 3,\n",
      "   'puesto': 1,\n",
      "   'pájaros': 1,\n",
      "  'pámpanos' : 1\n",
      " },\n",
      "'q': {\n",
      "   'que': 6,\n",
      "   'quedó': 1,\n",
      "  'quieres' : 6\n",
      " },\n",
      "'r': {\n",
      "   'rayo': 1,\n",
      "   'raíz': 1,\n",
      "   'renueva': 1,\n",
      "   'rocas': 1,\n",
      "  'rojo' : 1\n",
      " },\n",
      "'s': {\n",
      "   'salitre': 1,\n",
      "   'se': 2,\n",
      "   'sea': 1,\n",
      "   'sean': 1,\n",
      "   'sobre': 2,\n",
      "  'sé' : 1\n",
      " },\n",
      "'t': {\n",
      "   'te': 3,\n",
      "   'tejidos': 1,\n",
      "   'tenue': 1,\n",
      "   'tierra': 1,\n",
      "   'toca': 1,\n",
      "   'todas': 2,\n",
      "   'todavía': 1,\n",
      "   'tornadas': 1,\n",
      "  'tú' : 8\n",
      " },\n",
      "'u': {\n",
      "   'un': 1,\n",
      "  'una' : 1\n",
      " },\n",
      "'v': {\n",
      "   'vestido': 1,\n",
      "   'vete': 1,\n",
      "  'vive' : 1\n",
      " },\n",
      "'y': {\n",
      "  'y' : 5\n",
      " },\n",
      "}\n"
     ]
    }
   ],
   "source": [
    "#importo la libreria de expresiones regulares para luego asegurarme de quitar cualquier signo despues de las palabras\n",
    "\n",
    "import re\n",
    "\n",
    "#crear funcion de apertura y lectura de un texto\n",
    "def contar_palabras(archivo):\n",
    "    with open(archivo, 'r', encoding= 'utf-8') as f:   # 'r' es modo lectura, utf-8 Unicode Transformation Format - 8 bits codificacion de caracteres mas utilizadas en la web\n",
    "        texto = f.read() #lee todo el contenido del archivo y lo almacena en la variable texto\n",
    "\n",
    "    # division del texto en palabras\n",
    "    palabras = re.findall(r'\\b\\w+\\b', texto) #para asegurar que se desprecia cualquier signo despues de la palabra\n",
    "    # creacion diccionario vacío para almacenar la frecuencia de cada palabra\n",
    "    frecuencia_palabras={}\n",
    "\n",
    "    #iteracion sobre palabras (que es el texto dividido) para ver si la palabra ya esta en el diccionario o no y asignarle la frecuencia. \n",
    "    for palabra in palabras:\n",
    "        palabra = palabra.lower() #asi cambio cualquier mayuscula a minuscula\n",
    "        if palabra in frecuencia_palabras:\n",
    "            frecuencia_palabras[palabra] += 1\n",
    "        else:\n",
    "            frecuencia_palabras[palabra]=1\n",
    "\n",
    "    #devolver el diccionario frecuencia\n",
    "    return frecuencia_palabras\n",
    "\n",
    "#organizar las palabras por letra\n",
    "def organizar_palabras_por_letra(frecuencia_palabras):\n",
    "    diccionario_organizado = {} #creo nuevo diccionario para almacenar las palabras con su frecuencia de manera ordenada\n",
    "\n",
    "    for palabra, frecuencia in frecuencia_palabras.items():  #itera sobre cada par clave-valor\n",
    "        primera_letra = palabra[0].lower()  # Convierte la primera letra a minúscula\n",
    "        if primera_letra not in diccionario_organizado: #si no existe la letra la agrega como una nueva entrada en el diccionario\n",
    "            diccionario_organizado[primera_letra] = {}\n",
    "        diccionario_organizado[primera_letra][palabra] = frecuencia #agrega la palabra y su frecuencia al diccionario bajo la clave correspondiente a la letra inicial\n",
    "\n",
    "    # Ordeno palabras dentro de cada letra\n",
    "    for letra in diccionario_organizado:\n",
    "        diccionario_organizado[letra] = dict(sorted(diccionario_organizado[letra].items()))\n",
    "\n",
    "    return diccionario_organizado\n",
    "\n",
    "#imprimir el diccionario organizado, mostrando la frecuencia de cada palabra\n",
    "def imprimir_diccionario_organizado(diccionario_organizado):\n",
    "    print (\"{\")\n",
    "    for letra in sorted(diccionario_organizado): #itera sobre las claves del diccionario ordenadas\n",
    "        palabras = diccionario_organizado[letra]\n",
    "        if palabras:  # Verificar si hay palabras bajo esta letra y si existe imprime la letra\n",
    "            print(f\"'{letra}': {{\")\n",
    "            for idx, (palabra, frecuencia) in enumerate(palabras.items()): #itera sobre las palabras y frecuencias en el diccionario\n",
    "                if idx < len(palabras) - 1:\n",
    "                    print(f\"   '{palabra}': {frecuencia},\")\n",
    "                else:\n",
    "                    print(f\"  '{palabra}' : {frecuencia}\")\n",
    "            print(\" },\")\n",
    "    print(\"}\")\n",
    "\n",
    "#ahora ejecuto el archivo para introducir los datos\n",
    "archivo = 'tu_me_quieres_blanca.txt' #lo ubico en el mismo directorio donde se ejecuta este script de Python.\n",
    "frecuencia_palabras = contar_palabras(archivo)\n",
    "diccionario_organizado = organizar_palabras_por_letra(frecuencia_palabras)\n",
    "imprimir_diccionario_organizado(diccionario_organizado)\n"
   ]
  }
 ],
 "metadata": {
  "kernelspec": {
   "display_name": "base",
   "language": "python",
   "name": "python3"
  },
  "language_info": {
   "codemirror_mode": {
    "name": "ipython",
    "version": 3
   },
   "file_extension": ".py",
   "mimetype": "text/x-python",
   "name": "python",
   "nbconvert_exporter": "python",
   "pygments_lexer": "ipython3",
   "version": "3.11.5"
  }
 },
 "nbformat": 4,
 "nbformat_minor": 2
}
